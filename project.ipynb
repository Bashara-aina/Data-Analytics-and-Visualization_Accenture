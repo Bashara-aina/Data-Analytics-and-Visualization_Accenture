{
 "cells": [
  {
   "cell_type": "code",
   "execution_count": 1,
   "id": "6adf4daa-f3c1-467d-a24e-09f5f52786ff",
   "metadata": {
    "tags": []
   },
   "outputs": [],
   "source": [
    "#Import Library\n",
    "import pandas as pd\n",
    "import numpy as np\n",
    "import matplotlib.pyplot as plt"
   ]
  },
  {
   "cell_type": "code",
   "execution_count": 2,
   "id": "ed5f58f9-6a9a-487d-8bea-63079572205f",
   "metadata": {
    "tags": []
   },
   "outputs": [],
   "source": [
    "#Load Data\n",
    "content = pd.read_csv('../Accenture/Data/Content.csv')\n",
    "reactions = pd.read_csv('../Accenture/Data/Reactions.csv')\n",
    "reaction_types = pd.read_csv('../Accenture/Data/ReactionTypes.csv')"
   ]
  },
  {
   "cell_type": "code",
   "execution_count": 3,
   "id": "dd1f8cc0-4ec8-41c8-9c95-a0b2520b5ed3",
   "metadata": {
    "tags": []
   },
   "outputs": [],
   "source": [
    "#This code snippet drops the first column from the DataFrames and User ID\n",
    "content.drop(content.columns[0],axis=1,inplace=True)\n",
    "reactions.drop([reactions.columns[0],'User ID'],axis=1,inplace=True)\n",
    "reaction_types.drop(reaction_types.columns[0],axis=1,inplace=True)"
   ]
  },
  {
   "cell_type": "code",
   "execution_count": 4,
   "id": "1b622d31-6407-4e11-9fd1-535ebf94c1de",
   "metadata": {
    "tags": []
   },
   "outputs": [],
   "source": [
    "# Rename columns in content, reactions, and reaction_types\n",
    "content.rename(columns={'Type': 'Content_Type'}, inplace=True)\n",
    "reactions.rename(columns={'Type': 'Reaction_Type'}, inplace=True)\n",
    "reaction_types.rename(columns={'Type': 'Reaction_Type'}, inplace=True)"
   ]
  },
  {
   "cell_type": "code",
   "execution_count": 5,
   "id": "dede301c-3abe-445d-abe1-de2fd740180e",
   "metadata": {
    "tags": []
   },
   "outputs": [
    {
     "data": {
      "text/html": [
       "<div>\n",
       "<style scoped>\n",
       "    .dataframe tbody tr th:only-of-type {\n",
       "        vertical-align: middle;\n",
       "    }\n",
       "\n",
       "    .dataframe tbody tr th {\n",
       "        vertical-align: top;\n",
       "    }\n",
       "\n",
       "    .dataframe thead th {\n",
       "        text-align: right;\n",
       "    }\n",
       "</style>\n",
       "<table border=\"1\" class=\"dataframe\">\n",
       "  <thead>\n",
       "    <tr style=\"text-align: right;\">\n",
       "      <th></th>\n",
       "      <th>Content ID</th>\n",
       "      <th>Reaction_Type</th>\n",
       "      <th>Datetime</th>\n",
       "      <th>Content_Type</th>\n",
       "      <th>Category</th>\n",
       "      <th>Sentiment</th>\n",
       "      <th>Score</th>\n",
       "    </tr>\n",
       "  </thead>\n",
       "  <tbody>\n",
       "    <tr>\n",
       "      <th>0</th>\n",
       "      <td>97522e57-d9ab-4bd6-97bf-c24d952602d2</td>\n",
       "      <td>disgust</td>\n",
       "      <td>2020-11-07 09:43:50</td>\n",
       "      <td>photo</td>\n",
       "      <td>Studying</td>\n",
       "      <td>negative</td>\n",
       "      <td>0</td>\n",
       "    </tr>\n",
       "    <tr>\n",
       "      <th>1</th>\n",
       "      <td>97522e57-d9ab-4bd6-97bf-c24d952602d2</td>\n",
       "      <td>disgust</td>\n",
       "      <td>2021-01-06 19:13:01</td>\n",
       "      <td>photo</td>\n",
       "      <td>Studying</td>\n",
       "      <td>negative</td>\n",
       "      <td>0</td>\n",
       "    </tr>\n",
       "    <tr>\n",
       "      <th>2</th>\n",
       "      <td>97522e57-d9ab-4bd6-97bf-c24d952602d2</td>\n",
       "      <td>disgust</td>\n",
       "      <td>2021-04-09 02:46:20</td>\n",
       "      <td>photo</td>\n",
       "      <td>Studying</td>\n",
       "      <td>negative</td>\n",
       "      <td>0</td>\n",
       "    </tr>\n",
       "    <tr>\n",
       "      <th>3</th>\n",
       "      <td>9f737e0a-3cdd-4d29-9d24-753f4e3be810</td>\n",
       "      <td>disgust</td>\n",
       "      <td>2021-03-28 21:15:26</td>\n",
       "      <td>photo</td>\n",
       "      <td>healthy eating</td>\n",
       "      <td>negative</td>\n",
       "      <td>0</td>\n",
       "    </tr>\n",
       "    <tr>\n",
       "      <th>4</th>\n",
       "      <td>230c4e4d-70c3-461d-b42c-ec09396efb3f</td>\n",
       "      <td>disgust</td>\n",
       "      <td>2020-08-04 05:40:33</td>\n",
       "      <td>photo</td>\n",
       "      <td>healthy eating</td>\n",
       "      <td>negative</td>\n",
       "      <td>0</td>\n",
       "    </tr>\n",
       "  </tbody>\n",
       "</table>\n",
       "</div>"
      ],
      "text/plain": [
       "                             Content ID Reaction_Type             Datetime   \n",
       "0  97522e57-d9ab-4bd6-97bf-c24d952602d2       disgust  2020-11-07 09:43:50  \\\n",
       "1  97522e57-d9ab-4bd6-97bf-c24d952602d2       disgust  2021-01-06 19:13:01   \n",
       "2  97522e57-d9ab-4bd6-97bf-c24d952602d2       disgust  2021-04-09 02:46:20   \n",
       "3  9f737e0a-3cdd-4d29-9d24-753f4e3be810       disgust  2021-03-28 21:15:26   \n",
       "4  230c4e4d-70c3-461d-b42c-ec09396efb3f       disgust  2020-08-04 05:40:33   \n",
       "\n",
       "  Content_Type        Category Sentiment  Score  \n",
       "0        photo        Studying  negative      0  \n",
       "1        photo        Studying  negative      0  \n",
       "2        photo        Studying  negative      0  \n",
       "3        photo  healthy eating  negative      0  \n",
       "4        photo  healthy eating  negative      0  "
      ]
     },
     "execution_count": 5,
     "metadata": {},
     "output_type": "execute_result"
    }
   ],
   "source": [
    "#Merge the data\n",
    "merged_data = pd.merge(reactions, content[['Content ID', 'Content_Type', 'Category']], on='Content ID')\n",
    "merged_data = pd.merge(merged_data, reaction_types[['Reaction_Type', 'Sentiment', 'Score']], on='Reaction_Type')\n",
    "merged_data.head()"
   ]
  },
  {
   "cell_type": "code",
   "execution_count": 6,
   "id": "7238dbf5-bc19-42c1-ad8e-1bc0c19aaad2",
   "metadata": {
    "tags": []
   },
   "outputs": [],
   "source": [
    "# Select the desired columns\n",
    "merged_data = merged_data[['Content ID', 'Reaction_Type', 'Datetime', 'Content_Type', 'Category', 'Sentiment', 'Score']]"
   ]
  },
  {
   "cell_type": "code",
   "execution_count": 7,
   "id": "2a9ff0d3-226e-4ff2-b453-8d2cc4323b4c",
   "metadata": {
    "tags": []
   },
   "outputs": [
    {
     "data": {
      "text/plain": [
       "array(['Studying', 'healthy eating', 'dogs', 'public speaking', 'science',\n",
       "       'tennis', 'food', 'fitness', 'soccer', 'education', 'studying',\n",
       "       'travel', 'veganism', 'cooking', 'technology', 'animals',\n",
       "       'culture', 'Fitness', 'Veganism', '\"animals\"', 'Travel',\n",
       "       '\"soccer\"', 'Animals', 'Education', '\"dogs\"', '\"culture\"',\n",
       "       'Soccer', 'Culture', 'Food', '\"technology\"', '\"cooking\"',\n",
       "       '\"public speaking\"', 'Science', '\"veganism\"', 'Public Speaking',\n",
       "       '\"science\"', '\"studying\"', '\"food\"', 'Healthy Eating',\n",
       "       'Technology'], dtype=object)"
      ]
     },
     "execution_count": 7,
     "metadata": {},
     "output_type": "execute_result"
    }
   ],
   "source": [
    "merged_data['Category'].unique()"
   ]
  },
  {
   "cell_type": "code",
   "execution_count": 8,
   "id": "6d5028cb-2aa3-464c-aee3-136dba3972f8",
   "metadata": {
    "tags": []
   },
   "outputs": [],
   "source": [
    "#address the reapted column (especially for categorical varibale)!!\n",
    "merged_data['Category']= merged_data['Category'].replace('\"', '', regex=True)\n",
    "merged_data['Category']=merged_data['Category'].str.lower()"
   ]
  },
  {
   "cell_type": "code",
   "execution_count": 9,
   "id": "24da870f-fa8d-4088-b90c-b929d31071c9",
   "metadata": {
    "tags": []
   },
   "outputs": [
    {
     "data": {
      "text/plain": [
       "array(['studying', 'healthy eating', 'dogs', 'public speaking', 'science',\n",
       "       'tennis', 'food', 'fitness', 'soccer', 'education', 'travel',\n",
       "       'veganism', 'cooking', 'technology', 'animals', 'culture'],\n",
       "      dtype=object)"
      ]
     },
     "execution_count": 9,
     "metadata": {},
     "output_type": "execute_result"
    }
   ],
   "source": [
    "merged_data['Category'].unique()"
   ]
  },
  {
   "cell_type": "code",
   "execution_count": 10,
   "id": "b19ad203-618a-4315-9dd3-19398c7b6c00",
   "metadata": {
    "tags": []
   },
   "outputs": [
    {
     "data": {
      "text/html": [
       "<div>\n",
       "<style scoped>\n",
       "    .dataframe tbody tr th:only-of-type {\n",
       "        vertical-align: middle;\n",
       "    }\n",
       "\n",
       "    .dataframe tbody tr th {\n",
       "        vertical-align: top;\n",
       "    }\n",
       "\n",
       "    .dataframe thead th {\n",
       "        text-align: right;\n",
       "    }\n",
       "</style>\n",
       "<table border=\"1\" class=\"dataframe\">\n",
       "  <thead>\n",
       "    <tr style=\"text-align: right;\">\n",
       "      <th></th>\n",
       "      <th>Count</th>\n",
       "      <th>count</th>\n",
       "    </tr>\n",
       "  </thead>\n",
       "  <tbody>\n",
       "    <tr>\n",
       "      <th>0</th>\n",
       "      <td>animals</td>\n",
       "      <td>1897</td>\n",
       "    </tr>\n",
       "    <tr>\n",
       "      <th>1</th>\n",
       "      <td>science</td>\n",
       "      <td>1796</td>\n",
       "    </tr>\n",
       "    <tr>\n",
       "      <th>2</th>\n",
       "      <td>healthy eating</td>\n",
       "      <td>1717</td>\n",
       "    </tr>\n",
       "    <tr>\n",
       "      <th>3</th>\n",
       "      <td>food</td>\n",
       "      <td>1699</td>\n",
       "    </tr>\n",
       "    <tr>\n",
       "      <th>4</th>\n",
       "      <td>technology</td>\n",
       "      <td>1698</td>\n",
       "    </tr>\n",
       "  </tbody>\n",
       "</table>\n",
       "</div>"
      ],
      "text/plain": [
       "            Count  count\n",
       "0         animals   1897\n",
       "1         science   1796\n",
       "2  healthy eating   1717\n",
       "3            food   1699\n",
       "4      technology   1698"
      ]
     },
     "execution_count": 10,
     "metadata": {},
     "output_type": "execute_result"
    }
   ],
   "source": [
    "#Top Quantity\n",
    "top_quantity = merged_data['Category'].value_counts().head(5).reset_index().rename(columns={'index': 'Category', 'Category': 'Count'})\n",
    "top_quantity.head()"
   ]
  },
  {
   "cell_type": "code",
   "execution_count": 11,
   "id": "97e6afdb-27ed-41f5-92da-14bf3127d349",
   "metadata": {
    "tags": []
   },
   "outputs": [
    {
     "data": {
      "text/html": [
       "<div>\n",
       "<style scoped>\n",
       "    .dataframe tbody tr th:only-of-type {\n",
       "        vertical-align: middle;\n",
       "    }\n",
       "\n",
       "    .dataframe tbody tr th {\n",
       "        vertical-align: top;\n",
       "    }\n",
       "\n",
       "    .dataframe thead th {\n",
       "        text-align: right;\n",
       "    }\n",
       "</style>\n",
       "<table border=\"1\" class=\"dataframe\">\n",
       "  <thead>\n",
       "    <tr style=\"text-align: right;\">\n",
       "      <th></th>\n",
       "      <th>Category</th>\n",
       "      <th>Score</th>\n",
       "    </tr>\n",
       "  </thead>\n",
       "  <tbody>\n",
       "    <tr>\n",
       "      <th>0</th>\n",
       "      <td>animals</td>\n",
       "      <td>74965</td>\n",
       "    </tr>\n",
       "    <tr>\n",
       "      <th>9</th>\n",
       "      <td>science</td>\n",
       "      <td>71168</td>\n",
       "    </tr>\n",
       "    <tr>\n",
       "      <th>7</th>\n",
       "      <td>healthy eating</td>\n",
       "      <td>69339</td>\n",
       "    </tr>\n",
       "    <tr>\n",
       "      <th>12</th>\n",
       "      <td>technology</td>\n",
       "      <td>68738</td>\n",
       "    </tr>\n",
       "    <tr>\n",
       "      <th>6</th>\n",
       "      <td>food</td>\n",
       "      <td>66676</td>\n",
       "    </tr>\n",
       "  </tbody>\n",
       "</table>\n",
       "</div>"
      ],
      "text/plain": [
       "          Category  Score\n",
       "0          animals  74965\n",
       "9          science  71168\n",
       "7   healthy eating  69339\n",
       "12      technology  68738\n",
       "6             food  66676"
      ]
     },
     "execution_count": 11,
     "metadata": {},
     "output_type": "execute_result"
    }
   ],
   "source": [
    "#Top Scores\n",
    "top_scores = merged_data.groupby('Category')['Score'].sum().reset_index().sort_values(by='Score', ascending=False).head(5)\n",
    "top_scores.head()"
   ]
  },
  {
   "cell_type": "code",
   "execution_count": 12,
   "id": "2d17e502-8f22-466b-b244-d22083ad297e",
   "metadata": {
    "tags": []
   },
   "outputs": [],
   "source": [
    "# Save the data\n",
    "merged_data.to_csv('../Accenture/Data/merged_data.csv', index=False)\n",
    "top_quantity.to_csv('../Accenture/Data/top_quantity.csv', index=False)\n",
    "top_scores.to_csv('../Accenture/Data/top_scores.csv', index=False)"
   ]
  }
 ],
 "metadata": {
  "kernelspec": {
   "display_name": "Python 3 (ipykernel)",
   "language": "python",
   "name": "python3"
  },
  "language_info": {
   "codemirror_mode": {
    "name": "ipython",
    "version": 3
   },
   "file_extension": ".py",
   "mimetype": "text/x-python",
   "name": "python",
   "nbconvert_exporter": "python",
   "pygments_lexer": "ipython3",
   "version": "3.11.3"
  }
 },
 "nbformat": 4,
 "nbformat_minor": 5
}
